{
 "cells": [
  {
   "cell_type": "markdown",
   "metadata": {},
   "source": [
    "## week 1 tasks\n",
    "1. figure out how crazyflies initilize their orientation by rosbaging\n",
    "2. test cyclic pursuit for 3 crazyflies\n",
    "3. push the ros2 cyclic pursuit package to github "
   ]
  },
  {
   "cell_type": "markdown",
   "metadata": {},
   "source": [
    "## week 2 tasks\n",
    "1. Lab Expo on Apr. 11th"
   ]
  }
 ],
 "metadata": {
  "language_info": {
   "name": "python"
  }
 },
 "nbformat": 4,
 "nbformat_minor": 2
}
