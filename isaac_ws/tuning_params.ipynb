{
 "cells": [
  {
   "cell_type": "markdown",
   "metadata": {},
   "source": [
    "## good params for n = 2\n",
    "\n",
    "v = 0.3  \n",
    "av = np.pi/4  \n",
    "ds = 1  \n",
    "dl = 4  \n",
    "psi = np.pi * 7/4  \n",
    "d_0 = 1.5  \n",
    "c = 2  \n",
    "cj = 2  \n",
    "k = 0.24  \n",
    "kj = 0.45  \n",
    "rho_o = 1  \n",
    "n = 2  \n"
   ]
  },
  {
   "cell_type": "markdown",
   "metadata": {
    "vscode": {
     "languageId": "plaintext"
    }
   },
   "source": [
    "## good params for n = 3\n",
    "\n",
    "v = 0.3  \n",
    "av = np.pi/4  \n",
    "ds = 1  \n",
    "dl = 4  \n",
    "psi = np.pi * 7/4  \n",
    "d_0 = 2.83  \n",
    "c = 2  \n",
    "cj = 2  \n",
    "k = 0.17  \n",
    "kj = 0.31  \n",
    "rho_o = 0.8  \n",
    "n = 3  \n",
    "\n",
    "or\n",
    "\n",
    "v = 0.3  \n",
    "av = np.pi/4  \n",
    "ds = 1  \n",
    "dl = 4  \n",
    "psi = np.pi * 7/4  \n",
    "d_0 = 2.83  \n",
    "c = 2  \n",
    "cj = 2  \n",
    "k = 0.24  \n",
    "kj = 0.45  \n",
    "rho_o = 1  \n",
    "n = 3  "
   ]
  },
  {
   "cell_type": "markdown",
   "metadata": {},
   "source": [
    "## good params for n = 4\n",
    "v = 0.3  \n",
    "av = np.pi/4  \n",
    "ds = 1  \n",
    "dl = 4  \n",
    "psi = np.pi * 7/4  \n",
    "d_0 = 3  \n",
    "c = 2  \n",
    "cj = 2  \n",
    "k = 0.33  \n",
    "kj = 0.4  \n",
    "rho_o = 1.2  \n",
    "n = 4  \n",
    "\n",
    "\n"
   ]
  },
  {
   "cell_type": "markdown",
   "metadata": {},
   "source": [
    "## good params for n = 5\n",
    "\n",
    "v = 0.3  \n",
    "av = np.pi/4   \n",
    "ds = 1  \n",
    "dl = 4  \n",
    "psi = np.pi * 7/4  \n",
    "d_0 = 2.83 \n",
    "c = 2  \n",
    "cj = 3  \n",
    "k = 0.17  \n",
    "kj = 0.25  \n",
    "rho_o = 0.8  \n",
    "n = 5  \n",
    "rho_e_assume = 2"
   ]
  },
  {
   "cell_type": "markdown",
   "metadata": {},
   "source": [
    "## issues\n",
    "controller becomes really unstable when the radius is small"
   ]
  }
 ],
 "metadata": {
  "language_info": {
   "name": "python"
  }
 },
 "nbformat": 4,
 "nbformat_minor": 2
}
